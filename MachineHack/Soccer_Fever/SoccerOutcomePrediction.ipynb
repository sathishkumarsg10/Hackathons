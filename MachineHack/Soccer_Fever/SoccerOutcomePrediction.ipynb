{
 "cells": [
  {
   "cell_type": "code",
   "execution_count": 56,
   "id": "6507f98e",
   "metadata": {},
   "outputs": [],
   "source": [
    "import pandas as pd\n",
    "import numpy as np\n",
    "import matplotlib.pyplot as plt\n",
    "%matplotlib inline\n",
    "import os"
   ]
  },
  {
   "cell_type": "code",
   "execution_count": 57,
   "id": "49f61508",
   "metadata": {},
   "outputs": [
    {
     "data": {
      "text/plain": [
       "((7443, 21), (4008, 20))"
      ]
     },
     "execution_count": 57,
     "metadata": {},
     "output_type": "execute_result"
    }
   ],
   "source": [
    "train = pd.read_csv(os.getcwd()+'/train.csv')\n",
    "test = pd.read_csv(os.getcwd()+'/test.csv')\n",
    "submission = pd.read_csv(os.getcwd()+'/submission.csv')\n",
    "train.shape, test.shape"
   ]
  },
  {
   "cell_type": "code",
   "execution_count": 58,
   "id": "8e247fd8",
   "metadata": {},
   "outputs": [],
   "source": [
    "pd.set_option('display.max_columns',25)"
   ]
  },
  {
   "cell_type": "code",
   "execution_count": 59,
   "id": "acd6b4d7",
   "metadata": {},
   "outputs": [
    {
     "data": {
      "text/html": [
       "<div>\n",
       "<style scoped>\n",
       "    .dataframe tbody tr th:only-of-type {\n",
       "        vertical-align: middle;\n",
       "    }\n",
       "\n",
       "    .dataframe tbody tr th {\n",
       "        vertical-align: top;\n",
       "    }\n",
       "\n",
       "    .dataframe thead th {\n",
       "        text-align: right;\n",
       "    }\n",
       "</style>\n",
       "<table border=\"1\" class=\"dataframe\">\n",
       "  <thead>\n",
       "    <tr style=\"text-align: right;\">\n",
       "      <th></th>\n",
       "      <th>season</th>\n",
       "      <th>date</th>\n",
       "      <th>league_id</th>\n",
       "      <th>league</th>\n",
       "      <th>Team 1</th>\n",
       "      <th>Team2</th>\n",
       "      <th>SPI1</th>\n",
       "      <th>SPI2</th>\n",
       "      <th>proj_score1</th>\n",
       "      <th>proj_score2</th>\n",
       "      <th>importance1</th>\n",
       "      <th>importance2</th>\n",
       "      <th>score1</th>\n",
       "      <th>score2</th>\n",
       "      <th>xg1</th>\n",
       "      <th>xg2</th>\n",
       "      <th>nsxg1</th>\n",
       "      <th>nsxg2</th>\n",
       "      <th>adj_score1</th>\n",
       "      <th>adj_score2</th>\n",
       "      <th>Outcome</th>\n",
       "    </tr>\n",
       "  </thead>\n",
       "  <tbody>\n",
       "    <tr>\n",
       "      <th>0</th>\n",
       "      <td>2019</td>\n",
       "      <td>01/03/19</td>\n",
       "      <td>1979</td>\n",
       "      <td>Chinese Super League</td>\n",
       "      <td>Shandong Luneng</td>\n",
       "      <td>Guizhou Renhe</td>\n",
       "      <td>48.22</td>\n",
       "      <td>37.83</td>\n",
       "      <td>1.75</td>\n",
       "      <td>0.84</td>\n",
       "      <td>45.9</td>\n",
       "      <td>22.1</td>\n",
       "      <td>1.0</td>\n",
       "      <td>0.0</td>\n",
       "      <td>1.39</td>\n",
       "      <td>0.26</td>\n",
       "      <td>2.05</td>\n",
       "      <td>0.54</td>\n",
       "      <td>1.05</td>\n",
       "      <td>0.00</td>\n",
       "      <td>1</td>\n",
       "    </tr>\n",
       "    <tr>\n",
       "      <th>1</th>\n",
       "      <td>2019</td>\n",
       "      <td>01/03/19</td>\n",
       "      <td>1979</td>\n",
       "      <td>Chinese Super League</td>\n",
       "      <td>Shanghai Greenland</td>\n",
       "      <td>Shanghai SIPG</td>\n",
       "      <td>39.81</td>\n",
       "      <td>60.08</td>\n",
       "      <td>1.22</td>\n",
       "      <td>1.89</td>\n",
       "      <td>25.6</td>\n",
       "      <td>63.4</td>\n",
       "      <td>0.0</td>\n",
       "      <td>4.0</td>\n",
       "      <td>0.57</td>\n",
       "      <td>2.76</td>\n",
       "      <td>0.80</td>\n",
       "      <td>1.50</td>\n",
       "      <td>0.00</td>\n",
       "      <td>3.26</td>\n",
       "      <td>0</td>\n",
       "    </tr>\n",
       "    <tr>\n",
       "      <th>2</th>\n",
       "      <td>2019</td>\n",
       "      <td>01/03/19</td>\n",
       "      <td>1979</td>\n",
       "      <td>Chinese Super League</td>\n",
       "      <td>Guangzhou Evergrande</td>\n",
       "      <td>Tianjin Quanujian</td>\n",
       "      <td>65.59</td>\n",
       "      <td>39.99</td>\n",
       "      <td>2.58</td>\n",
       "      <td>0.62</td>\n",
       "      <td>77.1</td>\n",
       "      <td>28.8</td>\n",
       "      <td>3.0</td>\n",
       "      <td>0.0</td>\n",
       "      <td>0.49</td>\n",
       "      <td>0.45</td>\n",
       "      <td>1.05</td>\n",
       "      <td>0.75</td>\n",
       "      <td>3.15</td>\n",
       "      <td>0.00</td>\n",
       "      <td>1</td>\n",
       "    </tr>\n",
       "    <tr>\n",
       "      <th>3</th>\n",
       "      <td>2019</td>\n",
       "      <td>01/03/19</td>\n",
       "      <td>1979</td>\n",
       "      <td>Chinese Super League</td>\n",
       "      <td>Wuhan Zall</td>\n",
       "      <td>Beijing Guoan</td>\n",
       "      <td>32.25</td>\n",
       "      <td>54.82</td>\n",
       "      <td>1.10</td>\n",
       "      <td>1.79</td>\n",
       "      <td>35.8</td>\n",
       "      <td>58.9</td>\n",
       "      <td>0.0</td>\n",
       "      <td>1.0</td>\n",
       "      <td>1.12</td>\n",
       "      <td>0.97</td>\n",
       "      <td>1.51</td>\n",
       "      <td>0.94</td>\n",
       "      <td>0.00</td>\n",
       "      <td>1.05</td>\n",
       "      <td>0</td>\n",
       "    </tr>\n",
       "    <tr>\n",
       "      <th>4</th>\n",
       "      <td>2019</td>\n",
       "      <td>01/03/19</td>\n",
       "      <td>1979</td>\n",
       "      <td>Chinese Super League</td>\n",
       "      <td>Chongqing Lifan</td>\n",
       "      <td>Guangzhou RF</td>\n",
       "      <td>38.24</td>\n",
       "      <td>40.45</td>\n",
       "      <td>1.57</td>\n",
       "      <td>1.24</td>\n",
       "      <td>26.2</td>\n",
       "      <td>21.3</td>\n",
       "      <td>2.0</td>\n",
       "      <td>2.0</td>\n",
       "      <td>2.77</td>\n",
       "      <td>3.17</td>\n",
       "      <td>1.05</td>\n",
       "      <td>2.08</td>\n",
       "      <td>2.10</td>\n",
       "      <td>2.10</td>\n",
       "      <td>1</td>\n",
       "    </tr>\n",
       "  </tbody>\n",
       "</table>\n",
       "</div>"
      ],
      "text/plain": [
       "   season      date  league_id                league                Team 1  \\\n",
       "0    2019  01/03/19       1979  Chinese Super League       Shandong Luneng   \n",
       "1    2019  01/03/19       1979  Chinese Super League    Shanghai Greenland   \n",
       "2    2019  01/03/19       1979  Chinese Super League  Guangzhou Evergrande   \n",
       "3    2019  01/03/19       1979  Chinese Super League            Wuhan Zall   \n",
       "4    2019  01/03/19       1979  Chinese Super League       Chongqing Lifan   \n",
       "\n",
       "               Team2   SPI1   SPI2  proj_score1  proj_score2  importance1  \\\n",
       "0      Guizhou Renhe  48.22  37.83         1.75         0.84         45.9   \n",
       "1      Shanghai SIPG  39.81  60.08         1.22         1.89         25.6   \n",
       "2  Tianjin Quanujian  65.59  39.99         2.58         0.62         77.1   \n",
       "3      Beijing Guoan  32.25  54.82         1.10         1.79         35.8   \n",
       "4       Guangzhou RF  38.24  40.45         1.57         1.24         26.2   \n",
       "\n",
       "   importance2  score1  score2   xg1   xg2  nsxg1  nsxg2  adj_score1  \\\n",
       "0         22.1     1.0     0.0  1.39  0.26   2.05   0.54        1.05   \n",
       "1         63.4     0.0     4.0  0.57  2.76   0.80   1.50        0.00   \n",
       "2         28.8     3.0     0.0  0.49  0.45   1.05   0.75        3.15   \n",
       "3         58.9     0.0     1.0  1.12  0.97   1.51   0.94        0.00   \n",
       "4         21.3     2.0     2.0  2.77  3.17   1.05   2.08        2.10   \n",
       "\n",
       "   adj_score2  Outcome  \n",
       "0        0.00        1  \n",
       "1        3.26        0  \n",
       "2        0.00        1  \n",
       "3        1.05        0  \n",
       "4        2.10        1  "
      ]
     },
     "execution_count": 59,
     "metadata": {},
     "output_type": "execute_result"
    }
   ],
   "source": [
    "train.head()"
   ]
  },
  {
   "cell_type": "code",
   "execution_count": 60,
   "id": "40370219",
   "metadata": {},
   "outputs": [
    {
     "name": "stdout",
     "output_type": "stream",
     "text": [
      "<class 'pandas.core.frame.DataFrame'>\n",
      "RangeIndex: 7443 entries, 0 to 7442\n",
      "Data columns (total 21 columns):\n",
      " #   Column       Non-Null Count  Dtype  \n",
      "---  ------       --------------  -----  \n",
      " 0   season       7443 non-null   int64  \n",
      " 1   date         7443 non-null   object \n",
      " 2   league_id    7443 non-null   int64  \n",
      " 3   league       7443 non-null   object \n",
      " 4   Team 1       7443 non-null   object \n",
      " 5   Team2        7443 non-null   object \n",
      " 6   SPI1         7443 non-null   float64\n",
      " 7   SPI2         7443 non-null   float64\n",
      " 8   proj_score1  7443 non-null   float64\n",
      " 9   proj_score2  7443 non-null   float64\n",
      " 10  importance1  2527 non-null   float64\n",
      " 11  importance2  2527 non-null   float64\n",
      " 12  score1       2643 non-null   float64\n",
      " 13  score2       2643 non-null   float64\n",
      " 14  xg1          1715 non-null   float64\n",
      " 15  xg2          1715 non-null   float64\n",
      " 16  nsxg1        1715 non-null   float64\n",
      " 17  nsxg2        1715 non-null   float64\n",
      " 18  adj_score1   1715 non-null   float64\n",
      " 19  adj_score2   1715 non-null   float64\n",
      " 20  Outcome      7443 non-null   int64  \n",
      "dtypes: float64(14), int64(3), object(4)\n",
      "memory usage: 1.2+ MB\n"
     ]
    }
   ],
   "source": [
    "train.info()"
   ]
  },
  {
   "cell_type": "code",
   "execution_count": 61,
   "id": "ab22ffd6",
   "metadata": {},
   "outputs": [],
   "source": [
    "train['flag'] = 'train'\n",
    "test['flag'] = 'test'\n",
    "data = pd.concat([train, test], ignore_index = False, sort = True)"
   ]
  },
  {
   "cell_type": "code",
   "execution_count": 62,
   "id": "4fcbd7e7",
   "metadata": {},
   "outputs": [],
   "source": [
    "from sklearn.preprocessing import LabelEncoder\n",
    "LE = LabelEncoder()"
   ]
  },
  {
   "cell_type": "code",
   "execution_count": 63,
   "id": "00ac8412",
   "metadata": {},
   "outputs": [],
   "source": [
    "data['day'] = data['date'].apply(lambda x: x[0:2]).astype(int)\n",
    "data['month'] = data['date'].apply(lambda x: x[3:5]).astype(int)\n",
    "data.drop(['date', 'league'], axis = 1, inplace = True)\n",
    "data['Team 1'] = LE.fit_transform(data['Team 1'])\n",
    "data['Team2'] = LE.fit_transform(data['Team2'])   "
   ]
  },
  {
   "cell_type": "code",
   "execution_count": 64,
   "id": "c6229325",
   "metadata": {},
   "outputs": [
    {
     "name": "stdout",
     "output_type": "stream",
     "text": [
      "<class 'pandas.core.frame.DataFrame'>\n",
      "Int64Index: 11451 entries, 0 to 4007\n",
      "Data columns (total 22 columns):\n",
      " #   Column       Non-Null Count  Dtype  \n",
      "---  ------       --------------  -----  \n",
      " 0   Outcome      7443 non-null   float64\n",
      " 1   SPI1         11451 non-null  float64\n",
      " 2   SPI2         11451 non-null  float64\n",
      " 3   Team 1       11451 non-null  int64  \n",
      " 4   Team2        11451 non-null  int64  \n",
      " 5   adj_score1   1715 non-null   float64\n",
      " 6   adj_score2   1715 non-null   float64\n",
      " 7   flag         11451 non-null  object \n",
      " 8   importance1  2527 non-null   float64\n",
      " 9   importance2  2527 non-null   float64\n",
      " 10  league_id    11451 non-null  int64  \n",
      " 11  nsxg1        1715 non-null   float64\n",
      " 12  nsxg2        1715 non-null   float64\n",
      " 13  proj_score1  11451 non-null  float64\n",
      " 14  proj_score2  11451 non-null  float64\n",
      " 15  score1       2643 non-null   float64\n",
      " 16  score2       2643 non-null   float64\n",
      " 17  season       11451 non-null  int64  \n",
      " 18  xg1          1715 non-null   float64\n",
      " 19  xg2          1715 non-null   float64\n",
      " 20  day          11451 non-null  int64  \n",
      " 21  month        11451 non-null  int64  \n",
      "dtypes: float64(15), int64(6), object(1)\n",
      "memory usage: 2.0+ MB\n"
     ]
    }
   ],
   "source": [
    "data.info()"
   ]
  },
  {
   "cell_type": "code",
   "execution_count": 66,
   "id": "aa21a754",
   "metadata": {},
   "outputs": [
    {
     "data": {
      "text/plain": [
       "Index(['season', 'date', 'league_id', 'league', 'Team 1', 'Team2', 'SPI1',\n",
       "       'SPI2', 'proj_score1', 'proj_score2', 'importance1', 'importance2',\n",
       "       'score1', 'score2', 'xg1', 'xg2', 'nsxg1', 'nsxg2', 'adj_score1',\n",
       "       'adj_score2', 'Outcome', 'flag'],\n",
       "      dtype='object')"
      ]
     },
     "execution_count": 66,
     "metadata": {},
     "output_type": "execute_result"
    }
   ],
   "source": [
    "train.columns"
   ]
  },
  {
   "cell_type": "code",
   "execution_count": 67,
   "id": "fc38a97b",
   "metadata": {},
   "outputs": [],
   "source": [
    "columns =['season', 'league_id', 'Team 1', 'Team2', 'SPI1', 'SPI2', 'proj_score1',\n",
    "       'proj_score2', 'importance1', 'importance2', 'score1', 'score2', 'xg1',\n",
    "       'xg2', 'nsxg1', 'nsxg2', 'adj_score1', 'adj_score2', 'month', 'day']"
   ]
  },
  {
   "cell_type": "code",
   "execution_count": 68,
   "id": "02703cf9",
   "metadata": {},
   "outputs": [],
   "source": [
    "df_d = data[columns]"
   ]
  },
  {
   "cell_type": "code",
   "execution_count": 69,
   "id": "681ada70",
   "metadata": {},
   "outputs": [],
   "source": [
    "df_d1 = knn.fit(df_d)"
   ]
  },
  {
   "cell_type": "code",
   "execution_count": 70,
   "id": "7c6f17cd",
   "metadata": {},
   "outputs": [],
   "source": [
    "train = data[data['flag'] == 'train']\n",
    "test = data[data['flag'] == 'test']"
   ]
  },
  {
   "cell_type": "code",
   "execution_count": 71,
   "id": "c1f05ad5",
   "metadata": {},
   "outputs": [],
   "source": [
    "df_train = train.drop(['flag', 'Outcome'], axis = 1)"
   ]
  },
  {
   "cell_type": "code",
   "execution_count": 72,
   "id": "6cdfc015",
   "metadata": {},
   "outputs": [
    {
     "data": {
      "text/html": [
       "<div>\n",
       "<style scoped>\n",
       "    .dataframe tbody tr th:only-of-type {\n",
       "        vertical-align: middle;\n",
       "    }\n",
       "\n",
       "    .dataframe tbody tr th {\n",
       "        vertical-align: top;\n",
       "    }\n",
       "\n",
       "    .dataframe thead th {\n",
       "        text-align: right;\n",
       "    }\n",
       "</style>\n",
       "<table border=\"1\" class=\"dataframe\">\n",
       "  <thead>\n",
       "    <tr style=\"text-align: right;\">\n",
       "      <th></th>\n",
       "      <th>SPI1</th>\n",
       "      <th>SPI2</th>\n",
       "      <th>Team 1</th>\n",
       "      <th>Team2</th>\n",
       "      <th>adj_score1</th>\n",
       "      <th>adj_score2</th>\n",
       "      <th>importance1</th>\n",
       "      <th>importance2</th>\n",
       "      <th>league_id</th>\n",
       "      <th>nsxg1</th>\n",
       "      <th>nsxg2</th>\n",
       "      <th>proj_score1</th>\n",
       "      <th>proj_score2</th>\n",
       "      <th>score1</th>\n",
       "      <th>score2</th>\n",
       "      <th>season</th>\n",
       "      <th>xg1</th>\n",
       "      <th>xg2</th>\n",
       "      <th>day</th>\n",
       "      <th>month</th>\n",
       "    </tr>\n",
       "  </thead>\n",
       "  <tbody>\n",
       "    <tr>\n",
       "      <th>0</th>\n",
       "      <td>48.22</td>\n",
       "      <td>37.83</td>\n",
       "      <td>531</td>\n",
       "      <td>262</td>\n",
       "      <td>1.05</td>\n",
       "      <td>0.00</td>\n",
       "      <td>45.9</td>\n",
       "      <td>22.1</td>\n",
       "      <td>1979</td>\n",
       "      <td>2.05</td>\n",
       "      <td>0.54</td>\n",
       "      <td>1.75</td>\n",
       "      <td>0.84</td>\n",
       "      <td>1.0</td>\n",
       "      <td>0.0</td>\n",
       "      <td>2019</td>\n",
       "      <td>1.39</td>\n",
       "      <td>0.26</td>\n",
       "      <td>1</td>\n",
       "      <td>3</td>\n",
       "    </tr>\n",
       "    <tr>\n",
       "      <th>1</th>\n",
       "      <td>39.81</td>\n",
       "      <td>60.08</td>\n",
       "      <td>532</td>\n",
       "      <td>533</td>\n",
       "      <td>0.00</td>\n",
       "      <td>3.26</td>\n",
       "      <td>25.6</td>\n",
       "      <td>63.4</td>\n",
       "      <td>1979</td>\n",
       "      <td>0.80</td>\n",
       "      <td>1.50</td>\n",
       "      <td>1.22</td>\n",
       "      <td>1.89</td>\n",
       "      <td>0.0</td>\n",
       "      <td>4.0</td>\n",
       "      <td>2019</td>\n",
       "      <td>0.57</td>\n",
       "      <td>2.76</td>\n",
       "      <td>1</td>\n",
       "      <td>3</td>\n",
       "    </tr>\n",
       "    <tr>\n",
       "      <th>2</th>\n",
       "      <td>65.59</td>\n",
       "      <td>39.99</td>\n",
       "      <td>258</td>\n",
       "      <td>589</td>\n",
       "      <td>3.15</td>\n",
       "      <td>0.00</td>\n",
       "      <td>77.1</td>\n",
       "      <td>28.8</td>\n",
       "      <td>1979</td>\n",
       "      <td>1.05</td>\n",
       "      <td>0.75</td>\n",
       "      <td>2.58</td>\n",
       "      <td>0.62</td>\n",
       "      <td>3.0</td>\n",
       "      <td>0.0</td>\n",
       "      <td>2019</td>\n",
       "      <td>0.49</td>\n",
       "      <td>0.45</td>\n",
       "      <td>1</td>\n",
       "      <td>3</td>\n",
       "    </tr>\n",
       "    <tr>\n",
       "      <th>3</th>\n",
       "      <td>32.25</td>\n",
       "      <td>54.82</td>\n",
       "      <td>649</td>\n",
       "      <td>73</td>\n",
       "      <td>0.00</td>\n",
       "      <td>1.05</td>\n",
       "      <td>35.8</td>\n",
       "      <td>58.9</td>\n",
       "      <td>1979</td>\n",
       "      <td>1.51</td>\n",
       "      <td>0.94</td>\n",
       "      <td>1.10</td>\n",
       "      <td>1.79</td>\n",
       "      <td>0.0</td>\n",
       "      <td>1.0</td>\n",
       "      <td>2019</td>\n",
       "      <td>1.12</td>\n",
       "      <td>0.97</td>\n",
       "      <td>1</td>\n",
       "      <td>3</td>\n",
       "    </tr>\n",
       "    <tr>\n",
       "      <th>4</th>\n",
       "      <td>38.24</td>\n",
       "      <td>40.45</td>\n",
       "      <td>138</td>\n",
       "      <td>259</td>\n",
       "      <td>2.10</td>\n",
       "      <td>2.10</td>\n",
       "      <td>26.2</td>\n",
       "      <td>21.3</td>\n",
       "      <td>1979</td>\n",
       "      <td>1.05</td>\n",
       "      <td>2.08</td>\n",
       "      <td>1.57</td>\n",
       "      <td>1.24</td>\n",
       "      <td>2.0</td>\n",
       "      <td>2.0</td>\n",
       "      <td>2019</td>\n",
       "      <td>2.77</td>\n",
       "      <td>3.17</td>\n",
       "      <td>1</td>\n",
       "      <td>3</td>\n",
       "    </tr>\n",
       "    <tr>\n",
       "      <th>...</th>\n",
       "      <td>...</td>\n",
       "      <td>...</td>\n",
       "      <td>...</td>\n",
       "      <td>...</td>\n",
       "      <td>...</td>\n",
       "      <td>...</td>\n",
       "      <td>...</td>\n",
       "      <td>...</td>\n",
       "      <td>...</td>\n",
       "      <td>...</td>\n",
       "      <td>...</td>\n",
       "      <td>...</td>\n",
       "      <td>...</td>\n",
       "      <td>...</td>\n",
       "      <td>...</td>\n",
       "      <td>...</td>\n",
       "      <td>...</td>\n",
       "      <td>...</td>\n",
       "      <td>...</td>\n",
       "      <td>...</td>\n",
       "    </tr>\n",
       "    <tr>\n",
       "      <th>7438</th>\n",
       "      <td>34.05</td>\n",
       "      <td>33.76</td>\n",
       "      <td>311</td>\n",
       "      <td>0</td>\n",
       "      <td>NaN</td>\n",
       "      <td>NaN</td>\n",
       "      <td>NaN</td>\n",
       "      <td>NaN</td>\n",
       "      <td>1846</td>\n",
       "      <td>NaN</td>\n",
       "      <td>NaN</td>\n",
       "      <td>1.39</td>\n",
       "      <td>1.19</td>\n",
       "      <td>NaN</td>\n",
       "      <td>NaN</td>\n",
       "      <td>2021</td>\n",
       "      <td>NaN</td>\n",
       "      <td>NaN</td>\n",
       "      <td>12</td>\n",
       "      <td>12</td>\n",
       "    </tr>\n",
       "    <tr>\n",
       "      <th>7439</th>\n",
       "      <td>36.73</td>\n",
       "      <td>36.11</td>\n",
       "      <td>496</td>\n",
       "      <td>502</td>\n",
       "      <td>NaN</td>\n",
       "      <td>NaN</td>\n",
       "      <td>NaN</td>\n",
       "      <td>NaN</td>\n",
       "      <td>1846</td>\n",
       "      <td>NaN</td>\n",
       "      <td>NaN</td>\n",
       "      <td>1.67</td>\n",
       "      <td>1.44</td>\n",
       "      <td>NaN</td>\n",
       "      <td>NaN</td>\n",
       "      <td>2021</td>\n",
       "      <td>NaN</td>\n",
       "      <td>NaN</td>\n",
       "      <td>12</td>\n",
       "      <td>12</td>\n",
       "    </tr>\n",
       "    <tr>\n",
       "      <th>7440</th>\n",
       "      <td>12.97</td>\n",
       "      <td>23.59</td>\n",
       "      <td>388</td>\n",
       "      <td>426</td>\n",
       "      <td>NaN</td>\n",
       "      <td>NaN</td>\n",
       "      <td>NaN</td>\n",
       "      <td>NaN</td>\n",
       "      <td>1983</td>\n",
       "      <td>NaN</td>\n",
       "      <td>NaN</td>\n",
       "      <td>1.05</td>\n",
       "      <td>1.50</td>\n",
       "      <td>NaN</td>\n",
       "      <td>NaN</td>\n",
       "      <td>2021</td>\n",
       "      <td>NaN</td>\n",
       "      <td>NaN</td>\n",
       "      <td>14</td>\n",
       "      <td>12</td>\n",
       "    </tr>\n",
       "    <tr>\n",
       "      <th>7441</th>\n",
       "      <td>11.76</td>\n",
       "      <td>18.07</td>\n",
       "      <td>605</td>\n",
       "      <td>81</td>\n",
       "      <td>NaN</td>\n",
       "      <td>NaN</td>\n",
       "      <td>NaN</td>\n",
       "      <td>NaN</td>\n",
       "      <td>1983</td>\n",
       "      <td>NaN</td>\n",
       "      <td>NaN</td>\n",
       "      <td>1.22</td>\n",
       "      <td>1.46</td>\n",
       "      <td>NaN</td>\n",
       "      <td>NaN</td>\n",
       "      <td>2021</td>\n",
       "      <td>NaN</td>\n",
       "      <td>NaN</td>\n",
       "      <td>14</td>\n",
       "      <td>12</td>\n",
       "    </tr>\n",
       "    <tr>\n",
       "      <th>7442</th>\n",
       "      <td>25.89</td>\n",
       "      <td>10.75</td>\n",
       "      <td>359</td>\n",
       "      <td>67</td>\n",
       "      <td>NaN</td>\n",
       "      <td>NaN</td>\n",
       "      <td>NaN</td>\n",
       "      <td>NaN</td>\n",
       "      <td>1983</td>\n",
       "      <td>NaN</td>\n",
       "      <td>NaN</td>\n",
       "      <td>1.41</td>\n",
       "      <td>0.59</td>\n",
       "      <td>NaN</td>\n",
       "      <td>NaN</td>\n",
       "      <td>2021</td>\n",
       "      <td>NaN</td>\n",
       "      <td>NaN</td>\n",
       "      <td>14</td>\n",
       "      <td>12</td>\n",
       "    </tr>\n",
       "  </tbody>\n",
       "</table>\n",
       "<p>7443 rows × 20 columns</p>\n",
       "</div>"
      ],
      "text/plain": [
       "       SPI1   SPI2  Team 1  Team2  adj_score1  adj_score2  importance1  \\\n",
       "0     48.22  37.83     531    262        1.05        0.00         45.9   \n",
       "1     39.81  60.08     532    533        0.00        3.26         25.6   \n",
       "2     65.59  39.99     258    589        3.15        0.00         77.1   \n",
       "3     32.25  54.82     649     73        0.00        1.05         35.8   \n",
       "4     38.24  40.45     138    259        2.10        2.10         26.2   \n",
       "...     ...    ...     ...    ...         ...         ...          ...   \n",
       "7438  34.05  33.76     311      0         NaN         NaN          NaN   \n",
       "7439  36.73  36.11     496    502         NaN         NaN          NaN   \n",
       "7440  12.97  23.59     388    426         NaN         NaN          NaN   \n",
       "7441  11.76  18.07     605     81         NaN         NaN          NaN   \n",
       "7442  25.89  10.75     359     67         NaN         NaN          NaN   \n",
       "\n",
       "      importance2  league_id  nsxg1  nsxg2  proj_score1  proj_score2  score1  \\\n",
       "0            22.1       1979   2.05   0.54         1.75         0.84     1.0   \n",
       "1            63.4       1979   0.80   1.50         1.22         1.89     0.0   \n",
       "2            28.8       1979   1.05   0.75         2.58         0.62     3.0   \n",
       "3            58.9       1979   1.51   0.94         1.10         1.79     0.0   \n",
       "4            21.3       1979   1.05   2.08         1.57         1.24     2.0   \n",
       "...           ...        ...    ...    ...          ...          ...     ...   \n",
       "7438          NaN       1846    NaN    NaN         1.39         1.19     NaN   \n",
       "7439          NaN       1846    NaN    NaN         1.67         1.44     NaN   \n",
       "7440          NaN       1983    NaN    NaN         1.05         1.50     NaN   \n",
       "7441          NaN       1983    NaN    NaN         1.22         1.46     NaN   \n",
       "7442          NaN       1983    NaN    NaN         1.41         0.59     NaN   \n",
       "\n",
       "      score2  season   xg1   xg2  day  month  \n",
       "0        0.0    2019  1.39  0.26    1      3  \n",
       "1        4.0    2019  0.57  2.76    1      3  \n",
       "2        0.0    2019  0.49  0.45    1      3  \n",
       "3        1.0    2019  1.12  0.97    1      3  \n",
       "4        2.0    2019  2.77  3.17    1      3  \n",
       "...      ...     ...   ...   ...  ...    ...  \n",
       "7438     NaN    2021   NaN   NaN   12     12  \n",
       "7439     NaN    2021   NaN   NaN   12     12  \n",
       "7440     NaN    2021   NaN   NaN   14     12  \n",
       "7441     NaN    2021   NaN   NaN   14     12  \n",
       "7442     NaN    2021   NaN   NaN   14     12  \n",
       "\n",
       "[7443 rows x 20 columns]"
      ]
     },
     "execution_count": 72,
     "metadata": {},
     "output_type": "execute_result"
    }
   ],
   "source": [
    "df_train"
   ]
  },
  {
   "cell_type": "code",
   "execution_count": 73,
   "id": "77f911f5",
   "metadata": {},
   "outputs": [],
   "source": [
    "df_train = knn.transform(df_train)"
   ]
  },
  {
   "cell_type": "code",
   "execution_count": 74,
   "id": "541a1d0e",
   "metadata": {},
   "outputs": [],
   "source": [
    "X = df_train\n",
    "Y = train['Outcome']"
   ]
  },
  {
   "cell_type": "code",
   "execution_count": 97,
   "id": "d1601509",
   "metadata": {},
   "outputs": [],
   "source": [
    "from imblearn.over_sampling import RandomOverSampler\n",
    "oversample = RandomOverSampler()"
   ]
  },
  {
   "cell_type": "code",
   "execution_count": 98,
   "id": "5cb2d50f",
   "metadata": {},
   "outputs": [],
   "source": [
    "X1, Y1 = oversample.fit_resample(X, Y)"
   ]
  },
  {
   "cell_type": "code",
   "execution_count": 99,
   "id": "c25d54a0",
   "metadata": {},
   "outputs": [
    {
     "data": {
      "text/plain": [
       "((8112, 20), (2028, 20), (8112,), (2028,))"
      ]
     },
     "execution_count": 99,
     "metadata": {},
     "output_type": "execute_result"
    }
   ],
   "source": [
    "from sklearn.model_selection import train_test_split\n",
    "xTrain, xTest, yTrain, yTest = train_test_split(X1, Y1, test_size = 0.2, random_state = 21)\n",
    "xTrain.shape, xTest.shape, yTrain.shape, yTest.shape"
   ]
  },
  {
   "cell_type": "code",
   "execution_count": 100,
   "id": "8fc40bc7",
   "metadata": {},
   "outputs": [],
   "source": [
    "from sklearn.linear_model import LogisticRegression\n",
    "from sklearn.ensemble import RandomForestClassifier\n",
    "from xgboost import XGBClassifier\n",
    "LR = LogisticRegression()\n",
    "RF = RandomForestClassifier()\n",
    "xgb = XGBClassifier()"
   ]
  },
  {
   "cell_type": "code",
   "execution_count": 101,
   "id": "9af9cf86",
   "metadata": {},
   "outputs": [],
   "source": [
    "from lightgbm import LGBMClassifier\n",
    "lgb = LGBMClassifier()"
   ]
  },
  {
   "cell_type": "code",
   "execution_count": 102,
   "id": "811e13e6",
   "metadata": {},
   "outputs": [
    {
     "name": "stderr",
     "output_type": "stream",
     "text": [
      "/Users/sathishkumars/opt/anaconda3/lib/python3.8/site-packages/sklearn/linear_model/_logistic.py:763: ConvergenceWarning: lbfgs failed to converge (status=1):\n",
      "STOP: TOTAL NO. of ITERATIONS REACHED LIMIT.\n",
      "\n",
      "Increase the number of iterations (max_iter) or scale the data as shown in:\n",
      "    https://scikit-learn.org/stable/modules/preprocessing.html\n",
      "Please also refer to the documentation for alternative solver options:\n",
      "    https://scikit-learn.org/stable/modules/linear_model.html#logistic-regression\n",
      "  n_iter_i = _check_optimize_result(\n"
     ]
    },
    {
     "data": {
      "text/plain": [
       "LogisticRegression()"
      ]
     },
     "execution_count": 102,
     "metadata": {},
     "output_type": "execute_result"
    }
   ],
   "source": [
    "LR.fit(xTrain, yTrain)"
   ]
  },
  {
   "cell_type": "code",
   "execution_count": 103,
   "id": "75bd95a1",
   "metadata": {},
   "outputs": [],
   "source": [
    "pred_test = LR.predict(xTest)"
   ]
  },
  {
   "cell_type": "code",
   "execution_count": 104,
   "id": "d77fb1d4",
   "metadata": {},
   "outputs": [],
   "source": [
    "from sklearn.metrics import accuracy_score, log_loss"
   ]
  },
  {
   "cell_type": "code",
   "execution_count": 105,
   "id": "5df19cf4",
   "metadata": {},
   "outputs": [
    {
     "name": "stdout",
     "output_type": "stream",
     "text": [
      "0.9452662721893491\n"
     ]
    }
   ],
   "source": [
    "print(accuracy_score(pred_test, yTest))"
   ]
  },
  {
   "cell_type": "code",
   "execution_count": 106,
   "id": "904dc3b7",
   "metadata": {},
   "outputs": [
    {
     "name": "stdout",
     "output_type": "stream",
     "text": [
      "0.9901380670611439\n"
     ]
    }
   ],
   "source": [
    "RF.fit(xTrain, yTrain)\n",
    "pred_RF = RF.predict(xTest)\n",
    "print(accuracy_score(pred_RF, yTest))"
   ]
  },
  {
   "cell_type": "code",
   "execution_count": 107,
   "id": "038a17d8",
   "metadata": {},
   "outputs": [
    {
     "name": "stderr",
     "output_type": "stream",
     "text": [
      "/Users/sathishkumars/opt/anaconda3/lib/python3.8/site-packages/xgboost/sklearn.py:888: UserWarning: The use of label encoder in XGBClassifier is deprecated and will be removed in a future release. To remove this warning, do the following: 1) Pass option use_label_encoder=False when constructing XGBClassifier object; and 2) Encode your labels (y) as integers starting with 0, i.e. 0, 1, 2, ..., [num_class - 1].\n",
      "  warnings.warn(label_encoder_deprecation_msg, UserWarning)\n"
     ]
    },
    {
     "name": "stdout",
     "output_type": "stream",
     "text": [
      "[15:24:48] WARNING: /opt/concourse/worker/volumes/live/7a2b9f41-3287-451b-6691-43e9a6c0910f/volume/xgboost-split_1619728204606/work/src/learner.cc:1061: Starting in XGBoost 1.3.0, the default evaluation metric used with the objective 'binary:logistic' was changed from 'error' to 'logloss'. Explicitly set eval_metric if you'd like to restore the old behavior.\n",
      "0.9960552268244576\n"
     ]
    }
   ],
   "source": [
    "xgb.fit(xTrain, yTrain)\n",
    "pred_xgb = xgb.predict(xTest)\n",
    "print(accuracy_score(pred_xgb, yTest))"
   ]
  },
  {
   "cell_type": "code",
   "execution_count": 108,
   "id": "a2170012",
   "metadata": {},
   "outputs": [
    {
     "name": "stdout",
     "output_type": "stream",
     "text": [
      "0.9965483234714004\n"
     ]
    }
   ],
   "source": [
    "lgb.fit(xTrain, yTrain)\n",
    "pred_lgb = lgb.predict(xTest)\n",
    "print(accuracy_score(pred_lgb, yTest))"
   ]
  },
  {
   "cell_type": "code",
   "execution_count": 109,
   "id": "76284fa0",
   "metadata": {},
   "outputs": [
    {
     "data": {
      "text/html": [
       "<div>\n",
       "<style scoped>\n",
       "    .dataframe tbody tr th:only-of-type {\n",
       "        vertical-align: middle;\n",
       "    }\n",
       "\n",
       "    .dataframe tbody tr th {\n",
       "        vertical-align: top;\n",
       "    }\n",
       "\n",
       "    .dataframe thead th {\n",
       "        text-align: right;\n",
       "    }\n",
       "</style>\n",
       "<table border=\"1\" class=\"dataframe\">\n",
       "  <thead>\n",
       "    <tr style=\"text-align: right;\">\n",
       "      <th></th>\n",
       "      <th>Outcome</th>\n",
       "      <th>SPI1</th>\n",
       "      <th>SPI2</th>\n",
       "      <th>Team 1</th>\n",
       "      <th>Team2</th>\n",
       "      <th>adj_score1</th>\n",
       "      <th>adj_score2</th>\n",
       "      <th>flag</th>\n",
       "      <th>importance1</th>\n",
       "      <th>importance2</th>\n",
       "      <th>league_id</th>\n",
       "      <th>nsxg1</th>\n",
       "      <th>nsxg2</th>\n",
       "      <th>proj_score1</th>\n",
       "      <th>proj_score2</th>\n",
       "      <th>score1</th>\n",
       "      <th>score2</th>\n",
       "      <th>season</th>\n",
       "      <th>xg1</th>\n",
       "      <th>xg2</th>\n",
       "      <th>day</th>\n",
       "      <th>month</th>\n",
       "    </tr>\n",
       "  </thead>\n",
       "  <tbody>\n",
       "    <tr>\n",
       "      <th>0</th>\n",
       "      <td>NaN</td>\n",
       "      <td>79.65</td>\n",
       "      <td>74.06</td>\n",
       "      <td>40</td>\n",
       "      <td>641</td>\n",
       "      <td>NaN</td>\n",
       "      <td>NaN</td>\n",
       "      <td>test</td>\n",
       "      <td>NaN</td>\n",
       "      <td>NaN</td>\n",
       "      <td>2411</td>\n",
       "      <td>NaN</td>\n",
       "      <td>NaN</td>\n",
       "      <td>1.67</td>\n",
       "      <td>1.19</td>\n",
       "      <td>NaN</td>\n",
       "      <td>NaN</td>\n",
       "      <td>2021</td>\n",
       "      <td>NaN</td>\n",
       "      <td>NaN</td>\n",
       "      <td>14</td>\n",
       "      <td>12</td>\n",
       "    </tr>\n",
       "    <tr>\n",
       "      <th>1</th>\n",
       "      <td>NaN</td>\n",
       "      <td>74.19</td>\n",
       "      <td>71.14</td>\n",
       "      <td>100</td>\n",
       "      <td>648</td>\n",
       "      <td>NaN</td>\n",
       "      <td>NaN</td>\n",
       "      <td>test</td>\n",
       "      <td>NaN</td>\n",
       "      <td>NaN</td>\n",
       "      <td>2411</td>\n",
       "      <td>NaN</td>\n",
       "      <td>NaN</td>\n",
       "      <td>1.35</td>\n",
       "      <td>0.98</td>\n",
       "      <td>NaN</td>\n",
       "      <td>NaN</td>\n",
       "      <td>2021</td>\n",
       "      <td>NaN</td>\n",
       "      <td>NaN</td>\n",
       "      <td>14</td>\n",
       "      <td>12</td>\n",
       "    </tr>\n",
       "    <tr>\n",
       "      <th>2</th>\n",
       "      <td>NaN</td>\n",
       "      <td>60.67</td>\n",
       "      <td>71.45</td>\n",
       "      <td>411</td>\n",
       "      <td>45</td>\n",
       "      <td>NaN</td>\n",
       "      <td>NaN</td>\n",
       "      <td>test</td>\n",
       "      <td>NaN</td>\n",
       "      <td>NaN</td>\n",
       "      <td>2411</td>\n",
       "      <td>NaN</td>\n",
       "      <td>NaN</td>\n",
       "      <td>1.18</td>\n",
       "      <td>1.49</td>\n",
       "      <td>NaN</td>\n",
       "      <td>NaN</td>\n",
       "      <td>2021</td>\n",
       "      <td>NaN</td>\n",
       "      <td>NaN</td>\n",
       "      <td>14</td>\n",
       "      <td>12</td>\n",
       "    </tr>\n",
       "    <tr>\n",
       "      <th>3</th>\n",
       "      <td>NaN</td>\n",
       "      <td>76.88</td>\n",
       "      <td>79.06</td>\n",
       "      <td>333</td>\n",
       "      <td>598</td>\n",
       "      <td>NaN</td>\n",
       "      <td>NaN</td>\n",
       "      <td>test</td>\n",
       "      <td>NaN</td>\n",
       "      <td>NaN</td>\n",
       "      <td>2411</td>\n",
       "      <td>NaN</td>\n",
       "      <td>NaN</td>\n",
       "      <td>1.52</td>\n",
       "      <td>1.44</td>\n",
       "      <td>NaN</td>\n",
       "      <td>NaN</td>\n",
       "      <td>2021</td>\n",
       "      <td>NaN</td>\n",
       "      <td>NaN</td>\n",
       "      <td>14</td>\n",
       "      <td>12</td>\n",
       "    </tr>\n",
       "    <tr>\n",
       "      <th>4</th>\n",
       "      <td>NaN</td>\n",
       "      <td>63.53</td>\n",
       "      <td>85.58</td>\n",
       "      <td>96</td>\n",
       "      <td>362</td>\n",
       "      <td>NaN</td>\n",
       "      <td>NaN</td>\n",
       "      <td>test</td>\n",
       "      <td>NaN</td>\n",
       "      <td>NaN</td>\n",
       "      <td>2411</td>\n",
       "      <td>NaN</td>\n",
       "      <td>NaN</td>\n",
       "      <td>0.95</td>\n",
       "      <td>1.92</td>\n",
       "      <td>NaN</td>\n",
       "      <td>NaN</td>\n",
       "      <td>2021</td>\n",
       "      <td>NaN</td>\n",
       "      <td>NaN</td>\n",
       "      <td>14</td>\n",
       "      <td>12</td>\n",
       "    </tr>\n",
       "    <tr>\n",
       "      <th>...</th>\n",
       "      <td>...</td>\n",
       "      <td>...</td>\n",
       "      <td>...</td>\n",
       "      <td>...</td>\n",
       "      <td>...</td>\n",
       "      <td>...</td>\n",
       "      <td>...</td>\n",
       "      <td>...</td>\n",
       "      <td>...</td>\n",
       "      <td>...</td>\n",
       "      <td>...</td>\n",
       "      <td>...</td>\n",
       "      <td>...</td>\n",
       "      <td>...</td>\n",
       "      <td>...</td>\n",
       "      <td>...</td>\n",
       "      <td>...</td>\n",
       "      <td>...</td>\n",
       "      <td>...</td>\n",
       "      <td>...</td>\n",
       "      <td>...</td>\n",
       "      <td>...</td>\n",
       "    </tr>\n",
       "    <tr>\n",
       "      <th>4003</th>\n",
       "      <td>NaN</td>\n",
       "      <td>41.51</td>\n",
       "      <td>48.12</td>\n",
       "      <td>332</td>\n",
       "      <td>25</td>\n",
       "      <td>NaN</td>\n",
       "      <td>NaN</td>\n",
       "      <td>test</td>\n",
       "      <td>NaN</td>\n",
       "      <td>NaN</td>\n",
       "      <td>1871</td>\n",
       "      <td>NaN</td>\n",
       "      <td>NaN</td>\n",
       "      <td>1.40</td>\n",
       "      <td>1.39</td>\n",
       "      <td>NaN</td>\n",
       "      <td>NaN</td>\n",
       "      <td>2021</td>\n",
       "      <td>NaN</td>\n",
       "      <td>NaN</td>\n",
       "      <td>29</td>\n",
       "      <td>5</td>\n",
       "    </tr>\n",
       "    <tr>\n",
       "      <th>4004</th>\n",
       "      <td>NaN</td>\n",
       "      <td>26.77</td>\n",
       "      <td>33.53</td>\n",
       "      <td>5</td>\n",
       "      <td>176</td>\n",
       "      <td>NaN</td>\n",
       "      <td>NaN</td>\n",
       "      <td>test</td>\n",
       "      <td>NaN</td>\n",
       "      <td>NaN</td>\n",
       "      <td>1871</td>\n",
       "      <td>NaN</td>\n",
       "      <td>NaN</td>\n",
       "      <td>1.17</td>\n",
       "      <td>1.18</td>\n",
       "      <td>NaN</td>\n",
       "      <td>NaN</td>\n",
       "      <td>2021</td>\n",
       "      <td>NaN</td>\n",
       "      <td>NaN</td>\n",
       "      <td>29</td>\n",
       "      <td>5</td>\n",
       "    </tr>\n",
       "    <tr>\n",
       "      <th>4005</th>\n",
       "      <td>NaN</td>\n",
       "      <td>26.62</td>\n",
       "      <td>28.65</td>\n",
       "      <td>378</td>\n",
       "      <td>235</td>\n",
       "      <td>NaN</td>\n",
       "      <td>NaN</td>\n",
       "      <td>test</td>\n",
       "      <td>NaN</td>\n",
       "      <td>NaN</td>\n",
       "      <td>1871</td>\n",
       "      <td>NaN</td>\n",
       "      <td>NaN</td>\n",
       "      <td>1.31</td>\n",
       "      <td>1.14</td>\n",
       "      <td>NaN</td>\n",
       "      <td>NaN</td>\n",
       "      <td>2021</td>\n",
       "      <td>NaN</td>\n",
       "      <td>NaN</td>\n",
       "      <td>29</td>\n",
       "      <td>5</td>\n",
       "    </tr>\n",
       "    <tr>\n",
       "      <th>4006</th>\n",
       "      <td>NaN</td>\n",
       "      <td>33.74</td>\n",
       "      <td>30.32</td>\n",
       "      <td>557</td>\n",
       "      <td>324</td>\n",
       "      <td>NaN</td>\n",
       "      <td>NaN</td>\n",
       "      <td>test</td>\n",
       "      <td>NaN</td>\n",
       "      <td>NaN</td>\n",
       "      <td>1871</td>\n",
       "      <td>NaN</td>\n",
       "      <td>NaN</td>\n",
       "      <td>1.33</td>\n",
       "      <td>0.87</td>\n",
       "      <td>NaN</td>\n",
       "      <td>NaN</td>\n",
       "      <td>2021</td>\n",
       "      <td>NaN</td>\n",
       "      <td>NaN</td>\n",
       "      <td>29</td>\n",
       "      <td>5</td>\n",
       "    </tr>\n",
       "    <tr>\n",
       "      <th>4007</th>\n",
       "      <td>NaN</td>\n",
       "      <td>29.70</td>\n",
       "      <td>30.25</td>\n",
       "      <td>478</td>\n",
       "      <td>480</td>\n",
       "      <td>NaN</td>\n",
       "      <td>NaN</td>\n",
       "      <td>test</td>\n",
       "      <td>NaN</td>\n",
       "      <td>NaN</td>\n",
       "      <td>1871</td>\n",
       "      <td>NaN</td>\n",
       "      <td>NaN</td>\n",
       "      <td>1.38</td>\n",
       "      <td>1.19</td>\n",
       "      <td>NaN</td>\n",
       "      <td>NaN</td>\n",
       "      <td>2021</td>\n",
       "      <td>NaN</td>\n",
       "      <td>NaN</td>\n",
       "      <td>29</td>\n",
       "      <td>5</td>\n",
       "    </tr>\n",
       "  </tbody>\n",
       "</table>\n",
       "<p>4008 rows × 22 columns</p>\n",
       "</div>"
      ],
      "text/plain": [
       "      Outcome   SPI1   SPI2  Team 1  Team2  adj_score1  adj_score2  flag  \\\n",
       "0         NaN  79.65  74.06      40    641         NaN         NaN  test   \n",
       "1         NaN  74.19  71.14     100    648         NaN         NaN  test   \n",
       "2         NaN  60.67  71.45     411     45         NaN         NaN  test   \n",
       "3         NaN  76.88  79.06     333    598         NaN         NaN  test   \n",
       "4         NaN  63.53  85.58      96    362         NaN         NaN  test   \n",
       "...       ...    ...    ...     ...    ...         ...         ...   ...   \n",
       "4003      NaN  41.51  48.12     332     25         NaN         NaN  test   \n",
       "4004      NaN  26.77  33.53       5    176         NaN         NaN  test   \n",
       "4005      NaN  26.62  28.65     378    235         NaN         NaN  test   \n",
       "4006      NaN  33.74  30.32     557    324         NaN         NaN  test   \n",
       "4007      NaN  29.70  30.25     478    480         NaN         NaN  test   \n",
       "\n",
       "      importance1  importance2  league_id  nsxg1  nsxg2  proj_score1  \\\n",
       "0             NaN          NaN       2411    NaN    NaN         1.67   \n",
       "1             NaN          NaN       2411    NaN    NaN         1.35   \n",
       "2             NaN          NaN       2411    NaN    NaN         1.18   \n",
       "3             NaN          NaN       2411    NaN    NaN         1.52   \n",
       "4             NaN          NaN       2411    NaN    NaN         0.95   \n",
       "...           ...          ...        ...    ...    ...          ...   \n",
       "4003          NaN          NaN       1871    NaN    NaN         1.40   \n",
       "4004          NaN          NaN       1871    NaN    NaN         1.17   \n",
       "4005          NaN          NaN       1871    NaN    NaN         1.31   \n",
       "4006          NaN          NaN       1871    NaN    NaN         1.33   \n",
       "4007          NaN          NaN       1871    NaN    NaN         1.38   \n",
       "\n",
       "      proj_score2  score1  score2  season  xg1  xg2  day  month  \n",
       "0            1.19     NaN     NaN    2021  NaN  NaN   14     12  \n",
       "1            0.98     NaN     NaN    2021  NaN  NaN   14     12  \n",
       "2            1.49     NaN     NaN    2021  NaN  NaN   14     12  \n",
       "3            1.44     NaN     NaN    2021  NaN  NaN   14     12  \n",
       "4            1.92     NaN     NaN    2021  NaN  NaN   14     12  \n",
       "...           ...     ...     ...     ...  ...  ...  ...    ...  \n",
       "4003         1.39     NaN     NaN    2021  NaN  NaN   29      5  \n",
       "4004         1.18     NaN     NaN    2021  NaN  NaN   29      5  \n",
       "4005         1.14     NaN     NaN    2021  NaN  NaN   29      5  \n",
       "4006         0.87     NaN     NaN    2021  NaN  NaN   29      5  \n",
       "4007         1.19     NaN     NaN    2021  NaN  NaN   29      5  \n",
       "\n",
       "[4008 rows x 22 columns]"
      ]
     },
     "execution_count": 109,
     "metadata": {},
     "output_type": "execute_result"
    }
   ],
   "source": [
    "test"
   ]
  },
  {
   "cell_type": "code",
   "execution_count": 110,
   "id": "9c39639f",
   "metadata": {},
   "outputs": [],
   "source": [
    "test = test.drop(['Outcome', 'flag'], axis = 1)"
   ]
  },
  {
   "cell_type": "code",
   "execution_count": 111,
   "id": "3126cea3",
   "metadata": {},
   "outputs": [],
   "source": [
    "df_test = knn.transform(test)"
   ]
  },
  {
   "cell_type": "code",
   "execution_count": 39,
   "id": "6bdce12d",
   "metadata": {},
   "outputs": [
    {
     "data": {
      "text/plain": [
       "array([1, 1, 0, ..., 1, 1, 1])"
      ]
     },
     "execution_count": 39,
     "metadata": {},
     "output_type": "execute_result"
    }
   ],
   "source": [
    "predf = LR.predict(df_test)\n",
    "predf = predf.astype(int)\n",
    "predf"
   ]
  },
  {
   "cell_type": "code",
   "execution_count": 112,
   "id": "e972b232",
   "metadata": {},
   "outputs": [
    {
     "data": {
      "text/plain": [
       "array([1, 1, 0, ..., 1, 1, 1])"
      ]
     },
     "execution_count": 112,
     "metadata": {},
     "output_type": "execute_result"
    }
   ],
   "source": [
    "predf_xgb = xgb.predict(df_test)\n",
    "predf_xgb = predf_xgb.astype(int)\n",
    "predf_xgb"
   ]
  },
  {
   "cell_type": "code",
   "execution_count": 113,
   "id": "95185168",
   "metadata": {},
   "outputs": [
    {
     "data": {
      "text/plain": [
       "array([1, 1, 0, ..., 1, 1, 1])"
      ]
     },
     "execution_count": 113,
     "metadata": {},
     "output_type": "execute_result"
    }
   ],
   "source": [
    "predf_lgb = lgb.predict(df_test)\n",
    "predf_lgb = predf_lgb.astype(int)\n",
    "predf_lgb"
   ]
  },
  {
   "cell_type": "code",
   "execution_count": 50,
   "id": "dc881ae7",
   "metadata": {},
   "outputs": [],
   "source": [
    "import statistics"
   ]
  },
  {
   "cell_type": "code",
   "execution_count": 114,
   "id": "8a5930be",
   "metadata": {},
   "outputs": [],
   "source": [
    "mysubmission4 = pd.DataFrame(predf_lgb, columns = ['Outcome'] )"
   ]
  },
  {
   "cell_type": "code",
   "execution_count": 130,
   "id": "303d4a51",
   "metadata": {},
   "outputs": [
    {
     "data": {
      "text/plain": [
       "Outcome\n",
       "1          2832\n",
       "0          1176\n",
       "dtype: int64"
      ]
     },
     "execution_count": 130,
     "metadata": {},
     "output_type": "execute_result"
    }
   ],
   "source": [
    "mysubmission.value_counts()"
   ]
  },
  {
   "cell_type": "code",
   "execution_count": 131,
   "id": "d95ca840",
   "metadata": {},
   "outputs": [
    {
     "data": {
      "text/plain": [
       "Outcome\n",
       "1          2715\n",
       "0          1293\n",
       "dtype: int64"
      ]
     },
     "execution_count": 131,
     "metadata": {},
     "output_type": "execute_result"
    }
   ],
   "source": [
    "mysubmission1.value_counts()"
   ]
  },
  {
   "cell_type": "code",
   "execution_count": 204,
   "id": "803180cd",
   "metadata": {},
   "outputs": [
    {
     "data": {
      "text/plain": [
       "Outcome\n",
       "1          2704\n",
       "0          1304\n",
       "dtype: int64"
      ]
     },
     "execution_count": 204,
     "metadata": {},
     "output_type": "execute_result"
    }
   ],
   "source": [
    "mysubmission2.value_counts()"
   ]
  },
  {
   "cell_type": "code",
   "execution_count": 41,
   "id": "aed7c57f",
   "metadata": {},
   "outputs": [
    {
     "data": {
      "text/plain": [
       "Outcome\n",
       "1          2780\n",
       "0          1228\n",
       "dtype: int64"
      ]
     },
     "execution_count": 41,
     "metadata": {},
     "output_type": "execute_result"
    }
   ],
   "source": [
    "mysubmission3.value_counts()"
   ]
  },
  {
   "cell_type": "code",
   "execution_count": 115,
   "id": "8f9936fb",
   "metadata": {},
   "outputs": [
    {
     "data": {
      "text/plain": [
       "Outcome\n",
       "1          2704\n",
       "0          1304\n",
       "dtype: int64"
      ]
     },
     "execution_count": 115,
     "metadata": {},
     "output_type": "execute_result"
    }
   ],
   "source": [
    "mysubmission4.value_counts()"
   ]
  },
  {
   "cell_type": "code",
   "execution_count": 77,
   "id": "489cc5a4",
   "metadata": {},
   "outputs": [
    {
     "data": {
      "text/html": [
       "<div>\n",
       "<style scoped>\n",
       "    .dataframe tbody tr th:only-of-type {\n",
       "        vertical-align: middle;\n",
       "    }\n",
       "\n",
       "    .dataframe tbody tr th {\n",
       "        vertical-align: top;\n",
       "    }\n",
       "\n",
       "    .dataframe thead th {\n",
       "        text-align: right;\n",
       "    }\n",
       "</style>\n",
       "<table border=\"1\" class=\"dataframe\">\n",
       "  <thead>\n",
       "    <tr style=\"text-align: right;\">\n",
       "      <th></th>\n",
       "      <th>Outcome</th>\n",
       "    </tr>\n",
       "  </thead>\n",
       "  <tbody>\n",
       "    <tr>\n",
       "      <th>0</th>\n",
       "      <td>0</td>\n",
       "    </tr>\n",
       "    <tr>\n",
       "      <th>1</th>\n",
       "      <td>0</td>\n",
       "    </tr>\n",
       "    <tr>\n",
       "      <th>2</th>\n",
       "      <td>0</td>\n",
       "    </tr>\n",
       "    <tr>\n",
       "      <th>3</th>\n",
       "      <td>0</td>\n",
       "    </tr>\n",
       "    <tr>\n",
       "      <th>4</th>\n",
       "      <td>0</td>\n",
       "    </tr>\n",
       "    <tr>\n",
       "      <th>...</th>\n",
       "      <td>...</td>\n",
       "    </tr>\n",
       "    <tr>\n",
       "      <th>4003</th>\n",
       "      <td>0</td>\n",
       "    </tr>\n",
       "    <tr>\n",
       "      <th>4004</th>\n",
       "      <td>0</td>\n",
       "    </tr>\n",
       "    <tr>\n",
       "      <th>4005</th>\n",
       "      <td>0</td>\n",
       "    </tr>\n",
       "    <tr>\n",
       "      <th>4006</th>\n",
       "      <td>0</td>\n",
       "    </tr>\n",
       "    <tr>\n",
       "      <th>4007</th>\n",
       "      <td>0</td>\n",
       "    </tr>\n",
       "  </tbody>\n",
       "</table>\n",
       "<p>4008 rows × 1 columns</p>\n",
       "</div>"
      ],
      "text/plain": [
       "      Outcome\n",
       "0           0\n",
       "1           0\n",
       "2           0\n",
       "3           0\n",
       "4           0\n",
       "...       ...\n",
       "4003        0\n",
       "4004        0\n",
       "4005        0\n",
       "4006        0\n",
       "4007        0\n",
       "\n",
       "[4008 rows x 1 columns]"
      ]
     },
     "execution_count": 77,
     "metadata": {},
     "output_type": "execute_result"
    }
   ],
   "source": [
    "submission"
   ]
  },
  {
   "cell_type": "code",
   "execution_count": 116,
   "id": "341ae3a2",
   "metadata": {},
   "outputs": [],
   "source": [
    "mysubmission4.to_csv('mysubmission4.csv', index = False)"
   ]
  },
  {
   "cell_type": "code",
   "execution_count": null,
   "id": "bf0b711a",
   "metadata": {},
   "outputs": [],
   "source": []
  }
 ],
 "metadata": {
  "kernelspec": {
   "display_name": "Python 3",
   "language": "python",
   "name": "python3"
  },
  "language_info": {
   "codemirror_mode": {
    "name": "ipython",
    "version": 3
   },
   "file_extension": ".py",
   "mimetype": "text/x-python",
   "name": "python",
   "nbconvert_exporter": "python",
   "pygments_lexer": "ipython3",
   "version": "3.8.10"
  }
 },
 "nbformat": 4,
 "nbformat_minor": 5
}

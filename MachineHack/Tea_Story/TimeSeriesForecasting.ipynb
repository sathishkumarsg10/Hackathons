{
 "cells": [
  {
   "cell_type": "code",
   "execution_count": 1,
   "id": "06d38d87",
   "metadata": {},
   "outputs": [],
   "source": [
    "import pandas as pd\n",
    "import numpy as np\n",
    "import matplotlib.pyplot as plt\n",
    "import os"
   ]
  },
  {
   "cell_type": "code",
   "execution_count": 16,
   "id": "33fff898",
   "metadata": {},
   "outputs": [],
   "source": [
    "train = pd.read_csv(os.getcwd()+'/train.csv')\n",
    "test = pd.read_csv(os.getcwd()+'/test.csv')\n",
    "submission = pd.read_csv(os.getcwd()+'/submission.csv')"
   ]
  },
  {
   "cell_type": "code",
   "execution_count": 17,
   "id": "67b95f9b",
   "metadata": {},
   "outputs": [
    {
     "data": {
      "text/plain": [
       "((544, 16), (29, 16))"
      ]
     },
     "execution_count": 17,
     "metadata": {},
     "output_type": "execute_result"
    }
   ],
   "source": [
    "train.shape, test.shape"
   ]
  },
  {
   "cell_type": "code",
   "execution_count": 4,
   "id": "99d9dcb7",
   "metadata": {
    "scrolled": true
   },
   "outputs": [
    {
     "data": {
      "text/html": [
       "<div>\n",
       "<style scoped>\n",
       "    .dataframe tbody tr th:only-of-type {\n",
       "        vertical-align: middle;\n",
       "    }\n",
       "\n",
       "    .dataframe tbody tr th {\n",
       "        vertical-align: top;\n",
       "    }\n",
       "\n",
       "    .dataframe thead th {\n",
       "        text-align: right;\n",
       "    }\n",
       "</style>\n",
       "<table border=\"1\" class=\"dataframe\">\n",
       "  <thead>\n",
       "    <tr style=\"text-align: right;\">\n",
       "      <th></th>\n",
       "      <th>WeekEnding_Date</th>\n",
       "      <th>Kolkata_Average_Price</th>\n",
       "      <th>Kolkata_Ref_Price</th>\n",
       "      <th>Bangalore_Average_Price</th>\n",
       "      <th>Bangalore_Ref_Price</th>\n",
       "      <th>Cochin_Average_Price</th>\n",
       "      <th>Cochin_Ref_Price</th>\n",
       "      <th>Darjeeling_Average_Price</th>\n",
       "      <th>Darjeeling_Ref_Price</th>\n",
       "      <th>Ernakulam_Average_Price</th>\n",
       "      <th>Ernakulam_Ref_Price</th>\n",
       "      <th>Siliguri_Average_Price</th>\n",
       "      <th>Siliguri_Ref_Price</th>\n",
       "      <th>Guwahati_Average_Price</th>\n",
       "      <th>Guwahati_Ref_Price</th>\n",
       "      <th>Average</th>\n",
       "    </tr>\n",
       "  </thead>\n",
       "  <tbody>\n",
       "    <tr>\n",
       "      <th>0</th>\n",
       "      <td>03/01/09</td>\n",
       "      <td>99.01</td>\n",
       "      <td>79.79</td>\n",
       "      <td>N.S.</td>\n",
       "      <td>76.19</td>\n",
       "      <td>84.02</td>\n",
       "      <td>70.07</td>\n",
       "      <td>81.66</td>\n",
       "      <td>57.83</td>\n",
       "      <td>68.94</td>\n",
       "      <td>51.67</td>\n",
       "      <td>70.74</td>\n",
       "      <td>53.88</td>\n",
       "      <td>65.55</td>\n",
       "      <td>46.75</td>\n",
       "      <td>69.700000</td>\n",
       "    </tr>\n",
       "    <tr>\n",
       "      <th>1</th>\n",
       "      <td>10/01/09</td>\n",
       "      <td>97.74</td>\n",
       "      <td>78.73</td>\n",
       "      <td>87.48</td>\n",
       "      <td>73.97</td>\n",
       "      <td>82.72</td>\n",
       "      <td>68.17</td>\n",
       "      <td>83.31</td>\n",
       "      <td>58.02</td>\n",
       "      <td>67.24</td>\n",
       "      <td>52.23</td>\n",
       "      <td>70.47</td>\n",
       "      <td>53.39</td>\n",
       "      <td>67.39</td>\n",
       "      <td>46.84</td>\n",
       "      <td>70.550000</td>\n",
       "    </tr>\n",
       "    <tr>\n",
       "      <th>2</th>\n",
       "      <td>17/01/09</td>\n",
       "      <td>95.95</td>\n",
       "      <td>71.01</td>\n",
       "      <td>87.66</td>\n",
       "      <td>71.01</td>\n",
       "      <td>80.58</td>\n",
       "      <td>67.16</td>\n",
       "      <td>82.25</td>\n",
       "      <td>57.49</td>\n",
       "      <td>69.64</td>\n",
       "      <td>52.48</td>\n",
       "      <td>71.66</td>\n",
       "      <td>53.18</td>\n",
       "      <td>69.51</td>\n",
       "      <td>48.04</td>\n",
       "      <td>69.830000</td>\n",
       "    </tr>\n",
       "    <tr>\n",
       "      <th>3</th>\n",
       "      <td>24/01/09</td>\n",
       "      <td>94.14</td>\n",
       "      <td>73.38</td>\n",
       "      <td>85.69</td>\n",
       "      <td>65.66</td>\n",
       "      <td>N.S.</td>\n",
       "      <td>65.57</td>\n",
       "      <td>80.87</td>\n",
       "      <td>54.59</td>\n",
       "      <td>N.S.</td>\n",
       "      <td>53.43</td>\n",
       "      <td>71.12</td>\n",
       "      <td>52.07</td>\n",
       "      <td>69.14</td>\n",
       "      <td>48.5</td>\n",
       "      <td>67.846667</td>\n",
       "    </tr>\n",
       "    <tr>\n",
       "      <th>4</th>\n",
       "      <td>31/01/09</td>\n",
       "      <td>91.45</td>\n",
       "      <td>70.39</td>\n",
       "      <td>N.S.</td>\n",
       "      <td>64.99</td>\n",
       "      <td>79.27</td>\n",
       "      <td>62.09</td>\n",
       "      <td>80.76</td>\n",
       "      <td>57.06</td>\n",
       "      <td>69.65</td>\n",
       "      <td>53.38</td>\n",
       "      <td>72.3</td>\n",
       "      <td>52.5</td>\n",
       "      <td>69.39</td>\n",
       "      <td>50.33</td>\n",
       "      <td>67.196923</td>\n",
       "    </tr>\n",
       "    <tr>\n",
       "      <th>...</th>\n",
       "      <td>...</td>\n",
       "      <td>...</td>\n",
       "      <td>...</td>\n",
       "      <td>...</td>\n",
       "      <td>...</td>\n",
       "      <td>...</td>\n",
       "      <td>...</td>\n",
       "      <td>...</td>\n",
       "      <td>...</td>\n",
       "      <td>...</td>\n",
       "      <td>...</td>\n",
       "      <td>...</td>\n",
       "      <td>...</td>\n",
       "      <td>...</td>\n",
       "      <td>...</td>\n",
       "      <td>...</td>\n",
       "    </tr>\n",
       "    <tr>\n",
       "      <th>539</th>\n",
       "      <td>11/05/19</td>\n",
       "      <td>152.57</td>\n",
       "      <td>165.65</td>\n",
       "      <td>134.76</td>\n",
       "      <td>146.06</td>\n",
       "      <td>149.81</td>\n",
       "      <td>134.17</td>\n",
       "      <td>122.98</td>\n",
       "      <td>115.81</td>\n",
       "      <td>98.29</td>\n",
       "      <td>81.65</td>\n",
       "      <td>109.36</td>\n",
       "      <td>94.33</td>\n",
       "      <td>89.81</td>\n",
       "      <td>70.66</td>\n",
       "      <td>118.993571</td>\n",
       "    </tr>\n",
       "    <tr>\n",
       "      <th>540</th>\n",
       "      <td>18/05/19</td>\n",
       "      <td>147.74</td>\n",
       "      <td>159.89</td>\n",
       "      <td>134.5</td>\n",
       "      <td>146.36</td>\n",
       "      <td>148.81</td>\n",
       "      <td>142.88</td>\n",
       "      <td>122.98</td>\n",
       "      <td>113</td>\n",
       "      <td>96.47</td>\n",
       "      <td>78.46</td>\n",
       "      <td>111.36</td>\n",
       "      <td>90.39</td>\n",
       "      <td>90.96</td>\n",
       "      <td>66.68</td>\n",
       "      <td>117.891429</td>\n",
       "    </tr>\n",
       "    <tr>\n",
       "      <th>541</th>\n",
       "      <td>25/05/19</td>\n",
       "      <td>149.69</td>\n",
       "      <td>155.28</td>\n",
       "      <td>134.29</td>\n",
       "      <td>142.67</td>\n",
       "      <td>147.25</td>\n",
       "      <td>149.11</td>\n",
       "      <td>122.78</td>\n",
       "      <td>111.2</td>\n",
       "      <td>94.61</td>\n",
       "      <td>77.33</td>\n",
       "      <td>109.2</td>\n",
       "      <td>92.87</td>\n",
       "      <td>87.72</td>\n",
       "      <td>66.49</td>\n",
       "      <td>117.177857</td>\n",
       "    </tr>\n",
       "    <tr>\n",
       "      <th>542</th>\n",
       "      <td>01/06/19</td>\n",
       "      <td>144.51</td>\n",
       "      <td>150.81</td>\n",
       "      <td>138.45</td>\n",
       "      <td>151.35</td>\n",
       "      <td>149.7</td>\n",
       "      <td>151.4</td>\n",
       "      <td>122.82</td>\n",
       "      <td>111.12</td>\n",
       "      <td>93.01</td>\n",
       "      <td>77.14</td>\n",
       "      <td>109.69</td>\n",
       "      <td>91.66</td>\n",
       "      <td>86.6</td>\n",
       "      <td>68</td>\n",
       "      <td>117.590000</td>\n",
       "    </tr>\n",
       "    <tr>\n",
       "      <th>543</th>\n",
       "      <td>08/06/19</td>\n",
       "      <td>151.61</td>\n",
       "      <td>156.67</td>\n",
       "      <td>146.91</td>\n",
       "      <td>153.37</td>\n",
       "      <td>147.83</td>\n",
       "      <td>145.44</td>\n",
       "      <td>120.12</td>\n",
       "      <td>112.83</td>\n",
       "      <td>92.16</td>\n",
       "      <td>76.98</td>\n",
       "      <td>105.16</td>\n",
       "      <td>91.57</td>\n",
       "      <td>84.63</td>\n",
       "      <td>67.13</td>\n",
       "      <td>118.029286</td>\n",
       "    </tr>\n",
       "  </tbody>\n",
       "</table>\n",
       "<p>544 rows × 16 columns</p>\n",
       "</div>"
      ],
      "text/plain": [
       "    WeekEnding_Date Kolkata_Average_Price Kolkata_Ref_Price  \\\n",
       "0          03/01/09                 99.01             79.79   \n",
       "1          10/01/09                 97.74             78.73   \n",
       "2          17/01/09                 95.95             71.01   \n",
       "3          24/01/09                 94.14             73.38   \n",
       "4          31/01/09                 91.45             70.39   \n",
       "..              ...                   ...               ...   \n",
       "539        11/05/19                152.57            165.65   \n",
       "540        18/05/19                147.74            159.89   \n",
       "541        25/05/19                149.69            155.28   \n",
       "542        01/06/19                144.51            150.81   \n",
       "543        08/06/19                151.61            156.67   \n",
       "\n",
       "    Bangalore_Average_Price Bangalore_Ref_Price Cochin_Average_Price  \\\n",
       "0                      N.S.               76.19                84.02   \n",
       "1                     87.48               73.97                82.72   \n",
       "2                     87.66               71.01                80.58   \n",
       "3                     85.69               65.66                 N.S.   \n",
       "4                      N.S.               64.99                79.27   \n",
       "..                      ...                 ...                  ...   \n",
       "539                  134.76              146.06               149.81   \n",
       "540                   134.5              146.36               148.81   \n",
       "541                  134.29              142.67               147.25   \n",
       "542                  138.45              151.35                149.7   \n",
       "543                  146.91              153.37               147.83   \n",
       "\n",
       "    Cochin_Ref_Price Darjeeling_Average_Price Darjeeling_Ref_Price  \\\n",
       "0              70.07                    81.66                57.83   \n",
       "1              68.17                    83.31                58.02   \n",
       "2              67.16                    82.25                57.49   \n",
       "3              65.57                    80.87                54.59   \n",
       "4              62.09                    80.76                57.06   \n",
       "..               ...                      ...                  ...   \n",
       "539           134.17                   122.98               115.81   \n",
       "540           142.88                   122.98                  113   \n",
       "541           149.11                   122.78                111.2   \n",
       "542            151.4                   122.82               111.12   \n",
       "543           145.44                   120.12               112.83   \n",
       "\n",
       "    Ernakulam_Average_Price Ernakulam_Ref_Price Siliguri_Average_Price  \\\n",
       "0                     68.94               51.67                  70.74   \n",
       "1                     67.24               52.23                  70.47   \n",
       "2                     69.64               52.48                  71.66   \n",
       "3                      N.S.               53.43                  71.12   \n",
       "4                     69.65               53.38                   72.3   \n",
       "..                      ...                 ...                    ...   \n",
       "539                   98.29               81.65                 109.36   \n",
       "540                   96.47               78.46                 111.36   \n",
       "541                   94.61               77.33                  109.2   \n",
       "542                   93.01               77.14                 109.69   \n",
       "543                   92.16               76.98                 105.16   \n",
       "\n",
       "    Siliguri_Ref_Price Guwahati_Average_Price Guwahati_Ref_Price     Average  \n",
       "0                53.88                  65.55              46.75   69.700000  \n",
       "1                53.39                  67.39              46.84   70.550000  \n",
       "2                53.18                  69.51              48.04   69.830000  \n",
       "3                52.07                  69.14               48.5   67.846667  \n",
       "4                 52.5                  69.39              50.33   67.196923  \n",
       "..                 ...                    ...                ...         ...  \n",
       "539              94.33                  89.81              70.66  118.993571  \n",
       "540              90.39                  90.96              66.68  117.891429  \n",
       "541              92.87                  87.72              66.49  117.177857  \n",
       "542              91.66                   86.6                 68  117.590000  \n",
       "543              91.57                  84.63              67.13  118.029286  \n",
       "\n",
       "[544 rows x 16 columns]"
      ]
     },
     "execution_count": 4,
     "metadata": {},
     "output_type": "execute_result"
    }
   ],
   "source": [
    "train"
   ]
  },
  {
   "cell_type": "code",
   "execution_count": 18,
   "id": "7832ef19",
   "metadata": {},
   "outputs": [],
   "source": [
    "train['WeekEnding_Date'] = pd.to_datetime(train['WeekEnding_Date'], dayfirst = True )"
   ]
  },
  {
   "cell_type": "code",
   "execution_count": 19,
   "id": "0ab12dae",
   "metadata": {},
   "outputs": [
    {
     "data": {
      "text/plain": [
       "0     2009-01-03\n",
       "1     2009-01-10\n",
       "2     2009-01-17\n",
       "3     2009-01-24\n",
       "4     2009-01-31\n",
       "         ...    \n",
       "539   2019-05-11\n",
       "540   2019-05-18\n",
       "541   2019-05-25\n",
       "542   2019-06-01\n",
       "543   2019-06-08\n",
       "Name: WeekEnding_Date, Length: 544, dtype: datetime64[ns]"
      ]
     },
     "execution_count": 19,
     "metadata": {},
     "output_type": "execute_result"
    }
   ],
   "source": [
    "train['WeekEnding_Date']"
   ]
  },
  {
   "cell_type": "code",
   "execution_count": 6,
   "id": "7c47c990",
   "metadata": {},
   "outputs": [
    {
     "data": {
      "text/plain": [
       "0            NaT\n",
       "1     2009-03-01\n",
       "2     2009-10-01\n",
       "3     2009-01-17\n",
       "4     2009-01-24\n",
       "         ...    \n",
       "539   2019-04-05\n",
       "540   2019-11-05\n",
       "541   2019-05-18\n",
       "542   2019-05-25\n",
       "543   2019-01-06\n",
       "Name: WeekEnding_Date, Length: 544, dtype: datetime64[ns]"
      ]
     },
     "execution_count": 6,
     "metadata": {},
     "output_type": "execute_result"
    }
   ],
   "source": [
    "train['WeekEnding_Date'].shift(1)"
   ]
  },
  {
   "cell_type": "code",
   "execution_count": 8,
   "id": "1ea35062",
   "metadata": {},
   "outputs": [
    {
     "data": {
      "text/plain": [
       "0           NaT\n",
       "1      214 days\n",
       "2     -257 days\n",
       "3        7 days\n",
       "4        7 days\n",
       "         ...   \n",
       "539    214 days\n",
       "540   -171 days\n",
       "541      7 days\n",
       "542   -139 days\n",
       "543    212 days\n",
       "Name: WeekEnding_Date, Length: 544, dtype: timedelta64[ns]"
      ]
     },
     "execution_count": 8,
     "metadata": {},
     "output_type": "execute_result"
    }
   ],
   "source": [
    "train['WeekEnding_Date'] - train['WeekEnding_Date'].shift(1)"
   ]
  },
  {
   "cell_type": "code",
   "execution_count": 20,
   "id": "1e53927b",
   "metadata": {},
   "outputs": [],
   "source": [
    "train_indexed = train[['WeekEnding_Date', 'Average']]"
   ]
  },
  {
   "cell_type": "code",
   "execution_count": 21,
   "id": "0f88653b",
   "metadata": {},
   "outputs": [
    {
     "data": {
      "text/html": [
       "<div>\n",
       "<style scoped>\n",
       "    .dataframe tbody tr th:only-of-type {\n",
       "        vertical-align: middle;\n",
       "    }\n",
       "\n",
       "    .dataframe tbody tr th {\n",
       "        vertical-align: top;\n",
       "    }\n",
       "\n",
       "    .dataframe thead th {\n",
       "        text-align: right;\n",
       "    }\n",
       "</style>\n",
       "<table border=\"1\" class=\"dataframe\">\n",
       "  <thead>\n",
       "    <tr style=\"text-align: right;\">\n",
       "      <th></th>\n",
       "      <th>WeekEnding_Date</th>\n",
       "      <th>Average</th>\n",
       "    </tr>\n",
       "  </thead>\n",
       "  <tbody>\n",
       "    <tr>\n",
       "      <th>0</th>\n",
       "      <td>2009-01-03</td>\n",
       "      <td>69.700000</td>\n",
       "    </tr>\n",
       "    <tr>\n",
       "      <th>1</th>\n",
       "      <td>2009-01-10</td>\n",
       "      <td>70.550000</td>\n",
       "    </tr>\n",
       "    <tr>\n",
       "      <th>2</th>\n",
       "      <td>2009-01-17</td>\n",
       "      <td>69.830000</td>\n",
       "    </tr>\n",
       "    <tr>\n",
       "      <th>3</th>\n",
       "      <td>2009-01-24</td>\n",
       "      <td>67.846667</td>\n",
       "    </tr>\n",
       "    <tr>\n",
       "      <th>4</th>\n",
       "      <td>2009-01-31</td>\n",
       "      <td>67.196923</td>\n",
       "    </tr>\n",
       "    <tr>\n",
       "      <th>...</th>\n",
       "      <td>...</td>\n",
       "      <td>...</td>\n",
       "    </tr>\n",
       "    <tr>\n",
       "      <th>539</th>\n",
       "      <td>2019-05-11</td>\n",
       "      <td>118.993571</td>\n",
       "    </tr>\n",
       "    <tr>\n",
       "      <th>540</th>\n",
       "      <td>2019-05-18</td>\n",
       "      <td>117.891429</td>\n",
       "    </tr>\n",
       "    <tr>\n",
       "      <th>541</th>\n",
       "      <td>2019-05-25</td>\n",
       "      <td>117.177857</td>\n",
       "    </tr>\n",
       "    <tr>\n",
       "      <th>542</th>\n",
       "      <td>2019-06-01</td>\n",
       "      <td>117.590000</td>\n",
       "    </tr>\n",
       "    <tr>\n",
       "      <th>543</th>\n",
       "      <td>2019-06-08</td>\n",
       "      <td>118.029286</td>\n",
       "    </tr>\n",
       "  </tbody>\n",
       "</table>\n",
       "<p>544 rows × 2 columns</p>\n",
       "</div>"
      ],
      "text/plain": [
       "    WeekEnding_Date     Average\n",
       "0        2009-01-03   69.700000\n",
       "1        2009-01-10   70.550000\n",
       "2        2009-01-17   69.830000\n",
       "3        2009-01-24   67.846667\n",
       "4        2009-01-31   67.196923\n",
       "..              ...         ...\n",
       "539      2019-05-11  118.993571\n",
       "540      2019-05-18  117.891429\n",
       "541      2019-05-25  117.177857\n",
       "542      2019-06-01  117.590000\n",
       "543      2019-06-08  118.029286\n",
       "\n",
       "[544 rows x 2 columns]"
      ]
     },
     "execution_count": 21,
     "metadata": {},
     "output_type": "execute_result"
    }
   ],
   "source": [
    "train_indexed"
   ]
  },
  {
   "cell_type": "code",
   "execution_count": 22,
   "id": "48c41a98",
   "metadata": {},
   "outputs": [],
   "source": [
    "train_indexed = train_indexed.set_index(['WeekEnding_Date'])"
   ]
  },
  {
   "cell_type": "code",
   "execution_count": 23,
   "id": "380c76e2",
   "metadata": {},
   "outputs": [
    {
     "data": {
      "text/html": [
       "<div>\n",
       "<style scoped>\n",
       "    .dataframe tbody tr th:only-of-type {\n",
       "        vertical-align: middle;\n",
       "    }\n",
       "\n",
       "    .dataframe tbody tr th {\n",
       "        vertical-align: top;\n",
       "    }\n",
       "\n",
       "    .dataframe thead th {\n",
       "        text-align: right;\n",
       "    }\n",
       "</style>\n",
       "<table border=\"1\" class=\"dataframe\">\n",
       "  <thead>\n",
       "    <tr style=\"text-align: right;\">\n",
       "      <th></th>\n",
       "      <th>Average</th>\n",
       "    </tr>\n",
       "    <tr>\n",
       "      <th>WeekEnding_Date</th>\n",
       "      <th></th>\n",
       "    </tr>\n",
       "  </thead>\n",
       "  <tbody>\n",
       "    <tr>\n",
       "      <th>2009-01-03</th>\n",
       "      <td>69.700000</td>\n",
       "    </tr>\n",
       "    <tr>\n",
       "      <th>2009-01-10</th>\n",
       "      <td>70.550000</td>\n",
       "    </tr>\n",
       "    <tr>\n",
       "      <th>2009-01-17</th>\n",
       "      <td>69.830000</td>\n",
       "    </tr>\n",
       "    <tr>\n",
       "      <th>2009-01-24</th>\n",
       "      <td>67.846667</td>\n",
       "    </tr>\n",
       "    <tr>\n",
       "      <th>2009-01-31</th>\n",
       "      <td>67.196923</td>\n",
       "    </tr>\n",
       "    <tr>\n",
       "      <th>...</th>\n",
       "      <td>...</td>\n",
       "    </tr>\n",
       "    <tr>\n",
       "      <th>2019-05-11</th>\n",
       "      <td>118.993571</td>\n",
       "    </tr>\n",
       "    <tr>\n",
       "      <th>2019-05-18</th>\n",
       "      <td>117.891429</td>\n",
       "    </tr>\n",
       "    <tr>\n",
       "      <th>2019-05-25</th>\n",
       "      <td>117.177857</td>\n",
       "    </tr>\n",
       "    <tr>\n",
       "      <th>2019-06-01</th>\n",
       "      <td>117.590000</td>\n",
       "    </tr>\n",
       "    <tr>\n",
       "      <th>2019-06-08</th>\n",
       "      <td>118.029286</td>\n",
       "    </tr>\n",
       "  </tbody>\n",
       "</table>\n",
       "<p>544 rows × 1 columns</p>\n",
       "</div>"
      ],
      "text/plain": [
       "                    Average\n",
       "WeekEnding_Date            \n",
       "2009-01-03        69.700000\n",
       "2009-01-10        70.550000\n",
       "2009-01-17        69.830000\n",
       "2009-01-24        67.846667\n",
       "2009-01-31        67.196923\n",
       "...                     ...\n",
       "2019-05-11       118.993571\n",
       "2019-05-18       117.891429\n",
       "2019-05-25       117.177857\n",
       "2019-06-01       117.590000\n",
       "2019-06-08       118.029286\n",
       "\n",
       "[544 rows x 1 columns]"
      ]
     },
     "execution_count": 23,
     "metadata": {},
     "output_type": "execute_result"
    }
   ],
   "source": [
    "train_indexed"
   ]
  },
  {
   "cell_type": "code",
   "execution_count": 24,
   "id": "999e0f8d",
   "metadata": {},
   "outputs": [
    {
     "data": {
      "image/png": "[encoded data removed]",
      "text/plain": [
       "<Figure size 1440x360 with 1 Axes>"
      ]
     },
     "metadata": {
      "needs_background": "light"
     },
     "output_type": "display_data"
    }
   ],
   "source": [
    "plt.figure(figsize=(20,5))\n",
    "plt.plot(train_indexed)\n",
    "plt.show()"
   ]
  },
  {
   "cell_type": "markdown",
   "id": "03e50db4",
   "metadata": {},
   "source": [
    "Data is not Stationary"
   ]
  },
  {
   "cell_type": "code",
   "execution_count": 25,
   "id": "adb2597f",
   "metadata": {},
   "outputs": [],
   "source": [
    "rolling_mean = train_indexed.rolling(window = 52).mean()\n",
    "rolling_std = train_indexed.rolling(window = 52).mean()"
   ]
  },
  {
   "cell_type": "code",
   "execution_count": 26,
   "id": "70420343",
   "metadata": {},
   "outputs": [
    {
     "data": {
      "text/plain": [
       "[<matplotlib.lines.Line2D at 0x7fb5928f5430>]"
      ]
     },
     "execution_count": 26,
     "metadata": {},
     "output_type": "execute_result"
    },
    {
     "data": {
      "image/png": "[encoded data removed]",
      "text/plain": [
       "<Figure size 432x288 with 1 Axes>"
      ]
     },
     "metadata": {
      "needs_background": "light"
     },
     "output_type": "display_data"
    }
   ],
   "source": [
    "plt.plot(rolling_mean)"
   ]
  },
  {
   "cell_type": "code",
   "execution_count": 27,
   "id": "cc4a89dd",
   "metadata": {},
   "outputs": [
    {
     "data": {
      "text/plain": [
       "[<matplotlib.lines.Line2D at 0x7fb5c0303f40>]"
      ]
     },
     "execution_count": 27,
     "metadata": {},
     "output_type": "execute_result"
    },
    {
     "data": {
      "image/png": "[encoded data removed]",
      "text/plain": [
       "<Figure size 432x288 with 1 Axes>"
      ]
     },
     "metadata": {
      "needs_background": "light"
     },
     "output_type": "display_data"
    }
   ],
   "source": [
    "plt.plot(rolling_std)"
   ]
  },
  {
   "cell_type": "code",
   "execution_count": 28,
   "id": "10b01ba0",
   "metadata": {},
   "outputs": [
    {
     "data": {
      "text/plain": [
       "[<matplotlib.lines.Line2D at 0x7fb5d0099310>]"
      ]
     },
     "execution_count": 28,
     "metadata": {},
     "output_type": "execute_result"
    },
    {
     "data": {
      "image/png": "[encoded data removed]",
      "text/plain": [
       "<Figure size 432x288 with 1 Axes>"
      ]
     },
     "metadata": {
      "needs_background": "light"
     },
     "output_type": "display_data"
    }
   ],
   "source": [
    "plt.plot(np.log(rolling_mean))"
   ]
  },
  {
   "cell_type": "code",
   "execution_count": null,
   "id": "acffd7da",
   "metadata": {},
   "outputs": [],
   "source": []
  }
 ],
 "metadata": {
  "kernelspec": {
   "display_name": "Python 3",
   "language": "python",
   "name": "python3"
  },
  "language_info": {
   "codemirror_mode": {
    "name": "ipython",
    "version": 3
   },
   "file_extension": ".py",
   "mimetype": "text/x-python",
   "name": "python",
   "nbconvert_exporter": "python",
   "pygments_lexer": "ipython3",
   "version": "3.8.10"
  }
 },
 "nbformat": 4,
 "nbformat_minor": 5
}
